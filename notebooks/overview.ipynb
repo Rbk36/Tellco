{
 "cells": [
  {
   "cell_type": "code",
   "execution_count": 10,
   "metadata": {},
   "outputs": [
    {
     "ename": "ImportError",
     "evalue": "cannot import name 'DbConnection' from 'scripts.db_connection' (c:\\Users\\hp\\Desktop\\New folder (2)\\week2\\scripts\\db_connection.py)",
     "output_type": "error",
     "traceback": [
      "\u001b[1;31m---------------------------------------------------------------------------\u001b[0m",
      "\u001b[1;31mImportError\u001b[0m                               Traceback (most recent call last)",
      "Cell \u001b[1;32mIn[10], line 4\u001b[0m\n\u001b[0;32m      1\u001b[0m \u001b[38;5;28;01mimport\u001b[39;00m \u001b[38;5;21;01mos\u001b[39;00m\n\u001b[0;32m      3\u001b[0m os\u001b[38;5;241m.\u001b[39mchdir(\u001b[38;5;124m\"\u001b[39m\u001b[38;5;124m..\u001b[39m\u001b[38;5;124m\"\u001b[39m)  \u001b[38;5;66;03m# set the working directory one level up\u001b[39;00m\n\u001b[1;32m----> 4\u001b[0m \u001b[38;5;28;01mfrom\u001b[39;00m \u001b[38;5;21;01mscripts\u001b[39;00m\u001b[38;5;21;01m.\u001b[39;00m\u001b[38;5;21;01mdb_connection\u001b[39;00m \u001b[38;5;28;01mimport\u001b[39;00m DbConnection\n\u001b[0;32m      5\u001b[0m \u001b[38;5;28;01mfrom\u001b[39;00m \u001b[38;5;21;01mscripts\u001b[39;00m\u001b[38;5;21;01m.\u001b[39;00m\u001b[38;5;21;01manalyzer\u001b[39;00m \u001b[38;5;28;01mimport\u001b[39;00m Analyzer\n\u001b[0;32m      8\u001b[0m db_connection \u001b[38;5;241m=\u001b[39m DbConnection()\n",
      "\u001b[1;31mImportError\u001b[0m: cannot import name 'DbConnection' from 'scripts.db_connection' (c:\\Users\\hp\\Desktop\\New folder (2)\\week2\\scripts\\db_connection.py)"
     ]
    }
   ],
   "source": [
    "import os\n",
    "\n",
    "os.chdir(\"..\")  # set the working directory one level up\n",
    "from scripts.db_connection import DbConnection\n",
    "from scripts.analyzer import Analyzer\n",
    "\n",
    "\n",
    "db_connection = DbConnection()\n",
    "analyzer = Analyzer()\n"
   ]
  }
 ],
 "metadata": {
  "kernelspec": {
   "display_name": "Python 3",
   "language": "python",
   "name": "python3"
  },
  "language_info": {
   "codemirror_mode": {
    "name": "ipython",
    "version": 3
   },
   "file_extension": ".py",
   "mimetype": "text/x-python",
   "name": "python",
   "nbconvert_exporter": "python",
   "pygments_lexer": "ipython3",
   "version": "3.12.4"
  }
 },
 "nbformat": 4,
 "nbformat_minor": 2
}
