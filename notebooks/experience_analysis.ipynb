{
 "cells": [
  {
   "cell_type": "code",
   "execution_count": 18,
   "metadata": {},
   "outputs": [
    {
     "name": "stdout",
     "output_type": "stream",
     "text": [
      "\n",
      "Aggregated User Experience Data:\n",
      "   MSISDN/Number  TCP DL Retrans. Vol (Bytes)  Avg RTT DL (ms)  \\\n",
      "0   3.360100e+10                 1.685339e+07        46.000000   \n",
      "1   3.360100e+10                 1.685339e+07        30.000000   \n",
      "2   3.360100e+10                 1.685339e+07       119.182869   \n",
      "3   3.360101e+10                 1.066000e+03        69.000000   \n",
      "4   3.360101e+10                 9.349630e+06        57.000000   \n",
      "\n",
      "                     Handset Type  Throughput (Bps)  \n",
      "0  Huawei P20 Lite Huawei Nova 3E      7.528192e+06  \n",
      "1          Apple iPhone 7 (A1778)      8.655280e+05  \n",
      "2                       undefined      4.415580e+06  \n",
      "3         Apple iPhone 5S (A1457)      8.467074e+06  \n",
      "4         Apple iPhone Se (A1723)      8.437485e+06  \n"
     ]
    }
   ],
   "source": [
    "import pandas as pd\n",
    "from sklearn.preprocessing import StandardScaler\n",
    "from sklearn.cluster import KMeans\n",
    "import numpy as np\n",
    "\n",
    "# Assuming df_xdr is the DataFrame containing the dataset\n",
    "df_xdr['Total DL (Bytes)'] = pd.to_numeric(df_xdr['Total DL (Bytes)'], errors='coerce').fillna(0)\n",
    "df_xdr['Total UL (Bytes)'] = pd.to_numeric(df_xdr['Total UL (Bytes)'], errors='coerce').fillna(0)\n",
    "df_xdr['Dur. (ms)'] = pd.to_numeric(df_xdr['Dur. (ms)'], errors='coerce').fillna(df_xdr['Dur. (ms)'].mean())\n",
    "\n",
    "# Convert session duration from milliseconds to seconds\n",
    "df_xdr['Dur. (s)'] = df_xdr['Dur. (ms)'] / 1000.0\n",
    "\n",
    "# Calculate total data transferred (DL + UL)\n",
    "df_xdr['Total Data (Bytes)'] = df_xdr['Total DL (Bytes)'] + df_xdr['Total UL (Bytes)']\n",
    "\n",
    "# Calculate throughput in bytes per second\n",
    "df_xdr['Throughput (Bps)'] = df_xdr['Total Data (Bytes)'] / df_xdr['Dur. (s)']\n",
    "# Aggregate the required information per customer\n",
    "user_experience = df_xdr.groupby('MSISDN/Number').agg({\n",
    "    'TCP DL Retrans. Vol (Bytes)': 'mean', #Average TCP DL retransmission\n",
    "    'Avg RTT DL (ms)': 'mean',                 # Average RTT DL\n",
    "\n",
    "    'Handset Type': lambda x: x.mode()[0],  # Mode of Handset Type\n",
    "    'Throughput (Bps)': 'mean'           # Average throughput\n",
    "}).reset_index()\n",
    "\n",
    "# Handle missing values by replacing with column mean or mode\n",
    "user_experience.fillna({\n",
    "    'TCP DL Retrans. Vol (Bytes)': user_experience['TCP DL Retrans. Vol (Bytes)'].mean(),\n",
    "    'Avg RTT DL (ms)': user_experience['Avg RTT DL (ms)'].mean(),\n",
    "    'Throughput (Bps)': user_experience['Throughput (Bps)'].mean(),\n",
    "}, inplace=True)\n",
    "\n",
    "# Checking for outliers and replacing with mean\n",
    "for col in ['TCP DL Retrans. Vol (Bytes)', 'Avg RTT DL (ms)','Throughput (Bps)']:\n",
    "    col_mean = user_experience[col].mean()\n",
    "    col_std = user_experience[col].std()\n",
    "    user_experience[col] = np.where(\n",
    "        (user_experience[col] < col_mean - 3 * col_std) | (user_experience[col] > col_mean + 3 * col_std),\n",
    "        col_mean,\n",
    "        user_experience[col]\n",
    "    )\n",
    "\n",
    "print(\"\\nAggregated User Experience Data:\")\n",
    "print(user_experience.head())\n"
   ]
  },
  {
   "cell_type": "code",
   "execution_count": 19,
   "metadata": {},
   "outputs": [
    {
     "name": "stdout",
     "output_type": "stream",
     "text": [
      "\n",
      "Top 10 TCP DL Values:\n",
      "77979     4.294426e+09\n",
      "227991    4.294426e+09\n",
      "377989    4.294426e+09\n",
      "135690    4.291380e+09\n",
      "285689    4.291380e+09\n",
      "435682    4.291380e+09\n",
      "34645     4.289877e+09\n",
      "184664    4.289877e+09\n",
      "334663    4.289877e+09\n",
      "140825    4.289488e+09\n",
      "Name: TCP DL Retrans. Vol (Bytes), dtype: float64\n",
      "\n",
      "Bottom 10 TCP DL Values:\n",
      "59717     2.0\n",
      "125101    2.0\n",
      "209730    2.0\n",
      "275103    2.0\n",
      "359731    2.0\n",
      "425099    2.0\n",
      "2850      4.0\n",
      "39610     4.0\n",
      "52488     4.0\n",
      "60376     4.0\n",
      "Name: TCP DL Retrans. Vol (Bytes), dtype: float64\n",
      "\n",
      "Most Frequent TCP DL Values:\n",
      "0    1330.0\n",
      "Name: TCP DL Retrans. Vol (Bytes), dtype: float64\n"
     ]
    }
   ],
   "source": [
    "# Compute TCP values\n",
    "top_10_tcp_dl = df_xdr['TCP DL Retrans. Vol (Bytes)'].nlargest(10)\n",
    "bottom_10_tcp_dl = df_xdr['TCP DL Retrans. Vol (Bytes)'].nsmallest(10)\n",
    "most_frequent_tcp_dl = df_xdr['TCP DL Retrans. Vol (Bytes)'].mode().head(10)\n",
    "\n",
    "print(\"\\nTop 10 TCP DL Values:\")\n",
    "print(top_10_tcp_dl)\n",
    "\n",
    "print(\"\\nBottom 10 TCP DL Values:\")\n",
    "print(bottom_10_tcp_dl)\n",
    "\n",
    "print(\"\\nMost Frequent TCP DL Values:\")\n",
    "print(most_frequent_tcp_dl)\n"
   ]
  },
  {
   "cell_type": "code",
   "execution_count": 20,
   "metadata": {},
   "outputs": [
    {
     "name": "stdout",
     "output_type": "stream",
     "text": [
      "\n",
      "Top 10 RTT Values:\n",
      "30166     96923.0\n",
      "180186    96923.0\n",
      "330187    96923.0\n",
      "29927     64640.0\n",
      "179947    64640.0\n",
      "329948    64640.0\n",
      "17910     55811.0\n",
      "167932    55811.0\n",
      "317931    55811.0\n",
      "5989      54847.0\n",
      "Name: Avg RTT DL (ms), dtype: float64\n",
      "\n",
      "Bottom 10 RTT Values:\n",
      "42612     0.0\n",
      "52225     0.0\n",
      "60152     0.0\n",
      "61152     0.0\n",
      "61345     0.0\n",
      "103328    0.0\n",
      "124551    0.0\n",
      "142538    0.0\n",
      "143890    0.0\n",
      "192631    0.0\n",
      "Name: Avg RTT DL (ms), dtype: float64\n",
      "\n",
      "Most Frequent RTT Values:\n",
      "0    28.0\n",
      "Name: Avg RTT DL (ms), dtype: float64\n"
     ]
    }
   ],
   "source": [
    "# Compute RTT values using the DL data\n",
    "top_10_rtt = df_xdr['Avg RTT DL (ms)'].nlargest(10)\n",
    "bottom_10_rtt = df_xdr['Avg RTT DL (ms)'].nsmallest(10)\n",
    "most_frequent_rtt = df_xdr['Avg RTT DL (ms)'].mode().head(10)\n",
    "\n",
    "print(\"\\nTop 10 RTT Values:\")\n",
    "print(top_10_rtt)\n",
    "\n",
    "print(\"\\nBottom 10 RTT Values:\")\n",
    "print(bottom_10_rtt)\n",
    "\n",
    "print(\"\\nMost Frequent RTT Values:\")\n",
    "print(most_frequent_rtt)\n"
   ]
  },
  {
   "cell_type": "code",
   "execution_count": 22,
   "metadata": {},
   "outputs": [
    {
     "name": "stdout",
     "output_type": "stream",
     "text": [
      "\n",
      "Top 10 Throughput Values:\n",
      "24994     1.200441e+08\n",
      "175014    1.200441e+08\n",
      "325016    1.200441e+08\n",
      "24692     1.171029e+08\n",
      "174712    1.171029e+08\n",
      "324714    1.171029e+08\n",
      "24695     1.152741e+08\n",
      "174715    1.152741e+08\n",
      "324717    1.152741e+08\n",
      "24376     1.136658e+08\n",
      "Name: Throughput (Bps), dtype: float64\n",
      "\n",
      "Bottom 10 Throughput Values:\n",
      "150013        0.000000\n",
      "300013        0.000000\n",
      "450002        0.000000\n",
      "100015    54775.569490\n",
      "250026    54775.569490\n",
      "400023    54775.569490\n",
      "25026     83790.653188\n",
      "175046    83790.653188\n",
      "325048    83790.653188\n",
      "25074     89025.857083\n",
      "Name: Throughput (Bps), dtype: float64\n",
      "\n",
      "Most Frequent Throughput Values:\n",
      "0         0.000000\n",
      "1     54775.569490\n",
      "2     83790.653188\n",
      "3     89025.857083\n",
      "4     91426.180336\n",
      "5     93560.778325\n",
      "6     94473.518004\n",
      "7     97026.648884\n",
      "8    101108.476266\n",
      "9    103263.812872\n",
      "Name: Throughput (Bps), dtype: float64\n"
     ]
    }
   ],
   "source": [
    "# Compute Throughput values\n",
    "top_10_throughput = df_xdr['Throughput (Bps)'].nlargest(10)\n",
    "bottom_10_throughput = df_xdr['Throughput (Bps)'].nsmallest(10)\n",
    "most_frequent_throughput = df_xdr['Throughput (Bps)'].mode().head(10)\n",
    "\n",
    "print(\"\\nTop 10 Throughput Values:\")\n",
    "print(top_10_throughput)\n",
    "\n",
    "print(\"\\nBottom 10 Throughput Values:\")\n",
    "print(bottom_10_throughput)\n",
    "\n",
    "print(\"\\nMost Frequent Throughput Values:\")\n",
    "print(most_frequent_throughput)\n"
   ]
  },
  {
   "cell_type": "code",
   "execution_count": 40,
   "metadata": {},
   "outputs": [
    {
     "name": "stdout",
     "output_type": "stream",
     "text": [
      "\n",
      "Average Throughput Per Handset Type:\n",
      "                                           Handset Type  Throughput (Bps)\n",
      "0                            A-Link Telecom I. Cubot A5      5.598306e+07\n",
      "1                     A-Link Telecom I. Cubot Note Plus      4.897298e+07\n",
      "2                        A-Link Telecom I. Cubot Note S      1.683681e+07\n",
      "3                          A-Link Telecom I. Cubot Nova      8.343153e+06\n",
      "4                         A-Link Telecom I. Cubot Power      1.115560e+07\n",
      "...                                                 ...               ...\n",
      "1391  Zte Zte Blade C2 Smartphone Android By Sfr Sta...      4.659338e+06\n",
      "1392                          Zyxel Communicat. Lte7460      7.861414e+06\n",
      "1393                          Zyxel Communicat. Sbg3600      7.600364e+06\n",
      "1394                    Zyxel Communicat. Zyxel Wah7706      1.259624e+06\n",
      "1395                                          undefined      6.871043e+06\n",
      "\n",
      "[1396 rows x 2 columns]\n"
     ]
    }
   ],
   "source": [
    "# Aggregate average throughput per handset type\n",
    "throughput_per_handset = df_xdr.groupby('Handset Type').agg({'Throughput (Bps)': 'mean'}).reset_index()\n",
    "\n",
    "print(\"\\nAverage Throughput Per Handset Type:\")\n",
    "print(throughput_per_handset)\n"
   ]
  },
  {
   "cell_type": "code",
   "execution_count": 38,
   "metadata": {},
   "outputs": [
    {
     "name": "stdout",
     "output_type": "stream",
     "text": [
      "\n",
      "Average TCP Retransmission Per Handset Type:\n",
      "                                           Handset Type  \\\n",
      "0                            A-Link Telecom I. Cubot A5   \n",
      "1                     A-Link Telecom I. Cubot Note Plus   \n",
      "2                        A-Link Telecom I. Cubot Note S   \n",
      "3                          A-Link Telecom I. Cubot Nova   \n",
      "4                         A-Link Telecom I. Cubot Power   \n",
      "...                                                 ...   \n",
      "1391  Zte Zte Blade C2 Smartphone Android By Sfr Sta...   \n",
      "1392                          Zyxel Communicat. Lte7460   \n",
      "1393                          Zyxel Communicat. Sbg3600   \n",
      "1394                    Zyxel Communicat. Zyxel Wah7706   \n",
      "1395                                          undefined   \n",
      "\n",
      "      TCP DL Retrans. Vol (Bytes)  \n",
      "0                             NaN  \n",
      "1                    6.023490e+05  \n",
      "2                    4.134448e+07  \n",
      "3                    1.358400e+05  \n",
      "4                    7.799000e+03  \n",
      "...                           ...  \n",
      "1391                 2.660000e+03  \n",
      "1392                 2.384303e+07  \n",
      "1393                 5.020084e+07  \n",
      "1394                 1.160000e+02  \n",
      "1395                 3.250526e+06  \n",
      "\n",
      "[1396 rows x 2 columns]\n"
     ]
    }
   ],
   "source": [
    "# Aggregate average TCP retransmission per handset type\n",
    "tcp_per_handset = df_xdr.groupby('Handset Type').agg({'TCP DL Retrans. Vol (Bytes)': 'mean'}).reset_index()\n",
    "print(\"\\nAverage TCP Retransmission Per Handset Type:\")\n",
    "print(tcp_per_handset)\n"
   ]
  }
 ],
 "metadata": {
  "kernelspec": {
   "display_name": "Python 3",
   "language": "python",
   "name": "python3"
  },
  "language_info": {
   "codemirror_mode": {
    "name": "ipython",
    "version": 3
   },
   "file_extension": ".py",
   "mimetype": "text/x-python",
   "name": "python",
   "nbconvert_exporter": "python",
   "pygments_lexer": "ipython3",
   "version": "3.12.4"
  }
 },
 "nbformat": 4,
 "nbformat_minor": 2
}
